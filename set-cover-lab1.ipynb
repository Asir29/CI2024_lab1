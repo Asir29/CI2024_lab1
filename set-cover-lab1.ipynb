{
 "cells": [
  {
   "cell_type": "markdown",
   "metadata": {},
   "source": [
    "### Author : Antonio Sirica - Course : Computational Intelligence"
   ]
  },
  {
   "cell_type": "code",
   "execution_count": 1,
   "metadata": {},
   "outputs": [
    {
     "name": "stdout",
     "output_type": "stream",
     "text": [
      "Requirement already satisfied: icecream in c:\\users\\siric\\appdata\\local\\programs\\python\\python311\\lib\\site-packages (2.1.3)\n",
      "Requirement already satisfied: colorama>=0.3.9 in c:\\users\\siric\\appdata\\local\\programs\\python\\python311\\lib\\site-packages (from icecream) (0.4.6)\n",
      "Requirement already satisfied: pygments>=2.2.0 in c:\\users\\siric\\appdata\\local\\programs\\python\\python311\\lib\\site-packages (from icecream) (2.15.1)\n",
      "Requirement already satisfied: executing>=0.3.1 in c:\\users\\siric\\appdata\\local\\programs\\python\\python311\\lib\\site-packages (from icecream) (1.2.0)\n",
      "Requirement already satisfied: asttokens>=2.0.1 in c:\\users\\siric\\appdata\\local\\programs\\python\\python311\\lib\\site-packages (from icecream) (2.2.1)\n",
      "Requirement already satisfied: six in c:\\users\\siric\\appdata\\local\\programs\\python\\python311\\lib\\site-packages (from asttokens>=2.0.1->icecream) (1.16.0)\n",
      "Note: you may need to restart the kernel to use updated packages.\n"
     ]
    },
    {
     "name": "stderr",
     "output_type": "stream",
     "text": [
      "\n",
      "[notice] A new release of pip is available: 24.0 -> 24.2\n",
      "[notice] To update, run: python.exe -m pip install --upgrade pip\n"
     ]
    }
   ],
   "source": [
    "\n",
    "from random import random, seed\n",
    "from itertools import product\n",
    "import numpy as np\n",
    "import copy\n",
    "from tqdm.auto import tqdm\n",
    "%pip install icecream\n",
    "from icecream import ic\n",
    "from matplotlib import pyplot as plt\n",
    "from itertools import accumulate\n"
   ]
  },
  {
   "cell_type": "markdown",
   "metadata": {},
   "source": [
    "# Instance 1"
   ]
  },
  {
   "cell_type": "code",
   "execution_count": 2,
   "metadata": {},
   "outputs": [
    {
     "name": "stderr",
     "output_type": "stream",
     "text": [
      "ic| rng: Generator(PCG64) at 0x241FF570820\n"
     ]
    },
    {
     "data": {
      "text/plain": [
       "Generator(PCG64) at 0x241FF570820"
      ]
     },
     "execution_count": 2,
     "metadata": {},
     "output_type": "execute_result"
    }
   ],
   "source": [
    "UNIVERSE_SIZE = 100\n",
    "NUM_SETS = 10\n",
    "DENSITY = 0.2\n",
    "\n",
    "rng = np.random.Generator(np.random.PCG64([UNIVERSE_SIZE, NUM_SETS, int(10_000 * DENSITY)])) #seed \n",
    "ic(rng)"
   ]
  },
  {
   "cell_type": "markdown",
   "metadata": {},
   "source": [
    "# Instance 2"
   ]
  },
  {
   "cell_type": "code",
   "execution_count": 19,
   "metadata": {},
   "outputs": [
    {
     "name": "stderr",
     "output_type": "stream",
     "text": [
      "ic| rng: Generator(PCG64) at 0x241880475A0\n"
     ]
    },
    {
     "data": {
      "text/plain": [
       "Generator(PCG64) at 0x241880475A0"
      ]
     },
     "execution_count": 19,
     "metadata": {},
     "output_type": "execute_result"
    }
   ],
   "source": [
    "\n",
    "\n",
    "UNIVERSE_SIZE = 1_000\n",
    "NUM_SETS = 100\n",
    "DENSITY = 0.2\n",
    "\n",
    "rng = np.random.Generator(np.random.PCG64([UNIVERSE_SIZE, NUM_SETS, int(10_000 * DENSITY)])) #seed \n",
    "ic(rng)"
   ]
  },
  {
   "cell_type": "markdown",
   "metadata": {},
   "source": [
    "# Instance 3"
   ]
  },
  {
   "cell_type": "code",
   "execution_count": 4,
   "metadata": {},
   "outputs": [
    {
     "name": "stderr",
     "output_type": "stream",
     "text": [
      "ic| rng: Generator(PCG64) at 0x241FF5F2F80\n"
     ]
    },
    {
     "data": {
      "text/plain": [
       "Generator(PCG64) at 0x241FF5F2F80"
      ]
     },
     "execution_count": 4,
     "metadata": {},
     "output_type": "execute_result"
    }
   ],
   "source": [
    "\n",
    "\n",
    "UNIVERSE_SIZE = 10_000\n",
    "NUM_SETS = 1_000\n",
    "DENSITY = 0.2\n",
    "\n",
    "rng = np.random.Generator(np.random.PCG64([UNIVERSE_SIZE, NUM_SETS, int(10_000 * DENSITY)])) #seed \n",
    "ic(rng)"
   ]
  },
  {
   "cell_type": "markdown",
   "metadata": {},
   "source": [
    "# Instance 4"
   ]
  },
  {
   "cell_type": "code",
   "execution_count": 40,
   "metadata": {},
   "outputs": [
    {
     "name": "stderr",
     "output_type": "stream",
     "text": [
      "ic| rng: Generator(PCG64) at 0x24189537D80\n"
     ]
    },
    {
     "data": {
      "text/plain": [
       "Generator(PCG64) at 0x24189537D80"
      ]
     },
     "execution_count": 40,
     "metadata": {},
     "output_type": "execute_result"
    }
   ],
   "source": [
    "\n",
    "\n",
    "UNIVERSE_SIZE = 100_000\n",
    "NUM_SETS = 10_000\n",
    "DENSITY = 0.1\n",
    "\n",
    "rng = np.random.Generator(np.random.PCG64([UNIVERSE_SIZE, NUM_SETS, int(10_000 * DENSITY)])) #seed \n",
    "ic(rng)"
   ]
  },
  {
   "cell_type": "markdown",
   "metadata": {},
   "source": [
    "# Instance 5"
   ]
  },
  {
   "cell_type": "code",
   "execution_count": 6,
   "metadata": {},
   "outputs": [
    {
     "name": "stderr",
     "output_type": "stream",
     "text": [
      "ic| rng: Generator(PCG64) at 0x241FF5F2340\n"
     ]
    },
    {
     "data": {
      "text/plain": [
       "Generator(PCG64) at 0x241FF5F2340"
      ]
     },
     "execution_count": 6,
     "metadata": {},
     "output_type": "execute_result"
    }
   ],
   "source": [
    "\n",
    "\n",
    "UNIVERSE_SIZE = 100_000\n",
    "NUM_SETS = 10_000\n",
    "DENSITY = 0.2\n",
    "\n",
    "rng = np.random.Generator(np.random.PCG64([UNIVERSE_SIZE, NUM_SETS, int(10_000 * DENSITY)])) #seed \n",
    "ic(rng)"
   ]
  },
  {
   "cell_type": "markdown",
   "metadata": {},
   "source": [
    "# Instance 6"
   ]
  },
  {
   "cell_type": "code",
   "execution_count": 37,
   "metadata": {},
   "outputs": [
    {
     "name": "stderr",
     "output_type": "stream",
     "text": [
      "ic| rng: Generator(PCG64) at 0x24189536960\n"
     ]
    },
    {
     "data": {
      "text/plain": [
       "Generator(PCG64) at 0x24189536960"
      ]
     },
     "execution_count": 37,
     "metadata": {},
     "output_type": "execute_result"
    }
   ],
   "source": [
    "UNIVERSE_SIZE = 100_000\n",
    "NUM_SETS = 10_000\n",
    "DENSITY = 0.3\n",
    "\n",
    "rng = np.random.Generator(np.random.PCG64([UNIVERSE_SIZE, NUM_SETS, int(10_000 * DENSITY)])) #seed \n",
    "ic(rng)"
   ]
  },
  {
   "cell_type": "markdown",
   "metadata": {},
   "source": [
    "# Execute from here with the chosen instance"
   ]
  },
  {
   "cell_type": "code",
   "execution_count": 41,
   "metadata": {},
   "outputs": [
    {
     "name": "stderr",
     "output_type": "stream",
     "text": [
      "ic| SETS: array([[False,  True, False, ..., False, False, False],\n",
      "                 [False, False, False, ..., False, False, False],\n",
      "                 [False,  True, False, ..., False, False, False],\n",
      "                 ...,\n",
      "                 [False, False, False, ..., False, False, False],\n",
      "                 [False, False, False, ..., False, False, False],\n",
      "                 [False, False, False, ..., False, False, False]])\n"
     ]
    }
   ],
   "source": [
    "# DON'T EDIT THESE LINES!\n",
    "\n",
    "SETS = np.random.random((NUM_SETS, UNIVERSE_SIZE)) < DENSITY # Randomly generate sets an array of size NUM_SETS x UNIVERSE_SIZE with values True or False depending on if < DENSITY\n",
    "ic(SETS)\n",
    "for s in range(UNIVERSE_SIZE):\n",
    "    if not np.any(SETS[:, s]): # if no subset covers the element s\n",
    "        SETS[np.random.randint(NUM_SETS), s] = True # a random subset now covers that element\n",
    "# Define the cost for each set based on the sum of elements in the set, raised to the power of 1.1\n",
    "COSTS = np.power(SETS.sum(axis=1), 1.1) # element 0 cost of subset/row 0 ...\n",
    "\n",
    "\n"
   ]
  },
  {
   "cell_type": "code",
   "execution_count": 9,
   "metadata": {},
   "outputs": [],
   "source": [
    "#solution is a vector of the subsets taken (where true) \n",
    "\n",
    "\n",
    "def valid(solution):\n",
    "    \"\"\"Checks wether solution is valid (ie. covers all universe)\"\"\"\n",
    "    return np.all(np.logical_or.reduce(SETS[solution])) \n",
    "\n",
    "\n",
    "def cost(solution):\n",
    "    \"\"\"Returns the cost of a solution (to be minimized)\"\"\"\n",
    "    return COSTS[solution].sum()\n",
    "\n"
   ]
  },
  {
   "cell_type": "code",
   "execution_count": 21,
   "metadata": {},
   "outputs": [],
   "source": [
    "def coverage(solution):\n",
    "    \"\"\"Restituisce il numero di elementi nell'universo che sono coperti dai set selezionati.\"\"\"\n",
    "    covered_elements = np.sum(SETS[solution], axis=0) > 0\n",
    "    return np.sum(covered_elements)\n",
    "\n",
    "\n",
    "def fitness(solution):\n",
    "    return (coverage(solution), -cost(solution), valid(solution))\n",
    "\n",
    "def single_mutation (solution):\n",
    "    i = rng.integers(0, NUM_SETS)\n",
    "    new_solution = solution.copy()\n",
    "    new_solution[i]=not new_solution[i]\n",
    "    return new_solution\n",
    "\n",
    "def multiple_mutation_strength(solution, strength:float = 0.1): # for larger steps\n",
    "    mask = rng.random(NUM_SETS) < strength # Each element has a strength probability of being True and a remaining probability of being False.\n",
    "    if not np.any(mask):\n",
    "        mask[np.random.randint(NUM_SETS)] = True #if none is True put a random one to true\n",
    "\n",
    "    new_solution = np.logical_xor(solution, mask)\n",
    "    return new_solution\n"
   ]
  },
  {
   "cell_type": "code",
   "execution_count": 42,
   "metadata": {},
   "outputs": [
    {
     "name": "stderr",
     "output_type": "stream",
     "text": [
      "ic| fitness(solution): (100000, -251188517.84379008, True)\n",
      "ic| solution: array([False, False,  True, ...,  True, False, False])\n",
      "ic| fitness(solution): (100000, -103421506.26222196, True)\n",
      "ic| valid(solution_with_min_cost): True\n",
      "ic| 'Number of set taken', np.sum(solution): 4117\n",
      "ic| min_cost: 103421506.26222196\n"
     ]
    },
    {
     "data": {
      "text/plain": [
       "103421506.26222196"
      ]
     },
     "execution_count": 42,
     "metadata": {},
     "output_type": "execute_result"
    }
   ],
   "source": [
    "\n",
    "ITERATIONS = 1000\n",
    "BUFFER_SIZE = 5 # 1 out of 5\n",
    "\n",
    "\n",
    "solution = rng.random(NUM_SETS) < 1\n",
    "\n",
    "solution_fitness = fitness(solution)\n",
    "history = [float(solution_fitness[0])]\n",
    "ic(fitness(solution))\n",
    "\n",
    "strength = 0.5\n",
    "\n",
    "buffer = list()\n",
    "\n",
    "tweak = multiple_mutation_strength\n",
    "\n",
    "bufferValidSolutions = list()\n",
    "\n",
    "\n",
    "for steps in range(ITERATIONS):\n",
    "\n",
    "    new_solution = tweak(solution, strength)\n",
    "\n",
    "    if (valid(new_solution)):\n",
    "            bufferValidSolutions.append((new_solution, cost(new_solution)))\n",
    "\n",
    "    f = fitness(new_solution)\n",
    "    history.append(float(f[0]))\n",
    "\n",
    "    buffer.append(f > solution_fitness) #we insert a true if there was an improvement in fitness\n",
    "\n",
    "    buffer = buffer[-BUFFER_SIZE:] #keep only the last BUFFER_SIZE elements of the buffer\n",
    "\n",
    "    # SELF-ADAPTIVE\n",
    "    \n",
    "    if sum(buffer) > 1 :\n",
    "        strength *= 1.1 # magical numbers (important is to understand correlations)\n",
    "    elif sum(buffer) == 0 :\n",
    "        strength /= 1.1\n",
    "\n",
    "    if f > solution_fitness: #here twe tuple rapresentation makes implicitly the valid check\n",
    "        solution = new_solution\n",
    "        solution_fitness = fitness(new_solution)\n",
    "\n",
    "\n",
    "ic(solution)\n",
    "ic(fitness(solution))\n",
    "\n",
    "best_solution = min(bufferValidSolutions, key=lambda x:x[1])\n",
    "\n",
    "solution_with_min_cost, min_cost = best_solution\n",
    "\n",
    "\n",
    "ic(valid(solution_with_min_cost))\n",
    "ic(\"Number of set taken\",np.sum(solution))\n",
    "ic(min_cost)\n",
    "\n",
    "#plt.figure(figsize=(14,8))\n",
    "\n",
    "#plt.plot(\n",
    "#    range(len(history)),\n",
    "#    list(accumulate(history, max)),\n",
    "#    color=\"red\",\n",
    "#)\n",
    "\n",
    "#_ = plt.scatter(range(len(history)), history, marker=\".\")\n",
    "\n"
   ]
  }
 ],
 "metadata": {
  "kernelspec": {
   "display_name": "Python 3",
   "language": "python",
   "name": "python3"
  },
  "language_info": {
   "codemirror_mode": {
    "name": "ipython",
    "version": 3
   },
   "file_extension": ".py",
   "mimetype": "text/x-python",
   "name": "python",
   "nbconvert_exporter": "python",
   "pygments_lexer": "ipython3",
   "version": "3.11.3"
  }
 },
 "nbformat": 4,
 "nbformat_minor": 2
}
